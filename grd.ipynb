{
 "cells": [
  {
   "cell_type": "markdown",
   "id": "29a60896",
   "metadata": {},
   "source": [
    "Generate Cubes"
   ]
  },
  {
   "cell_type": "code",
   "execution_count": 1,
   "id": "d7f4b115",
   "metadata": {},
   "outputs": [],
   "source": [
    "#Import libraries\n",
    "\n",
    "import ee \n",
    "import geemap\n",
    "import xee\n",
    "import xarray as xr\n",
    "import datetime\n",
    "import rioxarray as rxr\n",
    "import pandas as pd\n",
    "import matplotlib.pyplot as plt\n",
    "import os\n",
    "import ipyleaflet\n",
    "import gdown\n",
    "import geopandas as gpd\n",
    "import rasterio\n",
    "from rasterio import features\n",
    "import numpy as np\n",
    "from osgeo import gdal, ogr, osr\n",
    "\n",
    "\n",
    "local_dir = \"C:/Users/jaden/Downloads/Research/Notebooks/GEE/tifs\"\n",
    "os.makedirs(local_dir, exist_ok=True)\n",
    "\n",
    "gdal.UseExceptions()"
   ]
  },
  {
   "cell_type": "code",
   "execution_count": 2,
   "id": "da288288",
   "metadata": {},
   "outputs": [
    {
     "data": {
      "text/html": [
       "\n",
       "            <style>\n",
       "                .geemap-dark {\n",
       "                    --jp-widgets-color: white;\n",
       "                    --jp-widgets-label-color: white;\n",
       "                    --jp-ui-font-color1: white;\n",
       "                    --jp-layout-color2: #454545;\n",
       "                    background-color: #383838;\n",
       "                }\n",
       "\n",
       "                .geemap-dark .jupyter-button {\n",
       "                    --jp-layout-color3: #383838;\n",
       "                }\n",
       "\n",
       "                .geemap-colab {\n",
       "                    background-color: var(--colab-primary-surface-color, white);\n",
       "                }\n",
       "\n",
       "                .geemap-colab .jupyter-button {\n",
       "                    --jp-layout-color3: var(--colab-primary-surface-color, white);\n",
       "                }\n",
       "            </style>\n",
       "            "
      ],
      "text/plain": [
       "<IPython.core.display.HTML object>"
      ]
     },
     "metadata": {},
     "output_type": "display_data"
    },
    {
     "data": {
      "text/plain": [
       "True"
      ]
     },
     "execution_count": 2,
     "metadata": {},
     "output_type": "execute_result"
    }
   ],
   "source": [
    "#Authenticate/initialize earth engine\n",
    "ee.Authenticate()\n"
   ]
  },
  {
   "cell_type": "code",
   "execution_count": 4,
   "id": "aa51f0eb",
   "metadata": {},
   "outputs": [
    {
     "data": {
      "text/html": [
       "\n",
       "            <style>\n",
       "                .geemap-dark {\n",
       "                    --jp-widgets-color: white;\n",
       "                    --jp-widgets-label-color: white;\n",
       "                    --jp-ui-font-color1: white;\n",
       "                    --jp-layout-color2: #454545;\n",
       "                    background-color: #383838;\n",
       "                }\n",
       "\n",
       "                .geemap-dark .jupyter-button {\n",
       "                    --jp-layout-color3: #383838;\n",
       "                }\n",
       "\n",
       "                .geemap-colab {\n",
       "                    background-color: var(--colab-primary-surface-color, white);\n",
       "                }\n",
       "\n",
       "                .geemap-colab .jupyter-button {\n",
       "                    --jp-layout-color3: var(--colab-primary-surface-color, white);\n",
       "                }\n",
       "            </style>\n",
       "            "
      ],
      "text/plain": [
       "<IPython.core.display.HTML object>"
      ]
     },
     "metadata": {},
     "output_type": "display_data"
    },
    {
     "name": "stderr",
     "output_type": "stream",
     "text": [
      "*** Earth Engine *** Share your feedback by taking our Annual Developer Satisfaction Survey: https://google.qualtrics.com/jfe/form/SV_7TDKVSyKvBdmMqW?ref=4i2o6\n"
     ]
    }
   ],
   "source": [
    "ee.Initialize(\n",
    "    project = 'sar-testing-472822',\n",
    "    opt_url = 'https://earthengine-highvolume.googleapis.com'\n",
    ")"
   ]
  },
  {
   "cell_type": "code",
   "execution_count": 2,
   "id": "18321e76",
   "metadata": {},
   "outputs": [
    {
     "data": {
      "text/html": [
       "\n",
       "            <style>\n",
       "                .geemap-dark {\n",
       "                    --jp-widgets-color: white;\n",
       "                    --jp-widgets-label-color: white;\n",
       "                    --jp-ui-font-color1: white;\n",
       "                    --jp-layout-color2: #454545;\n",
       "                    background-color: #383838;\n",
       "                }\n",
       "\n",
       "                .geemap-dark .jupyter-button {\n",
       "                    --jp-layout-color3: #383838;\n",
       "                }\n",
       "\n",
       "                .geemap-colab {\n",
       "                    background-color: var(--colab-primary-surface-color, white);\n",
       "                }\n",
       "\n",
       "                .geemap-colab .jupyter-button {\n",
       "                    --jp-layout-color3: var(--colab-primary-surface-color, white);\n",
       "                }\n",
       "            </style>\n",
       "            "
      ],
      "text/plain": [
       "<IPython.core.display.HTML object>"
      ]
     },
     "metadata": {},
     "output_type": "display_data"
    },
    {
     "data": {
      "application/vnd.jupyter.widget-view+json": {
       "model_id": "cddc4320650149ee94d1836d3c47c586",
       "version_major": 2,
       "version_minor": 0
      },
      "text/plain": [
       "Map(center=[0, 0], controls=(WidgetControl(options=['position', 'transparent_bg'], position='topright', transp…"
      ]
     },
     "execution_count": 2,
     "metadata": {},
     "output_type": "execute_result"
    }
   ],
   "source": [
    "Map = geemap.Map(basemap = 'TERRAIN')\n",
    "Map #to view map, selected point in US"
   ]
  },
  {
   "cell_type": "markdown",
   "id": "204b6080",
   "metadata": {},
   "source": [
    "Set bounding box in map widget above: for testing purposes, kennicott area\n",
    "Note that the GRD image selection will include any scenes that *intersect* the box bounds"
   ]
  },
  {
   "cell_type": "code",
   "execution_count": 3,
   "id": "a285c18c",
   "metadata": {},
   "outputs": [
    {
     "data": {
      "text/html": [
       "\n",
       "            <style>\n",
       "                .geemap-dark {\n",
       "                    --jp-widgets-color: white;\n",
       "                    --jp-widgets-label-color: white;\n",
       "                    --jp-ui-font-color1: white;\n",
       "                    --jp-layout-color2: #454545;\n",
       "                    background-color: #383838;\n",
       "                }\n",
       "\n",
       "                .geemap-dark .jupyter-button {\n",
       "                    --jp-layout-color3: #383838;\n",
       "                }\n",
       "\n",
       "                .geemap-colab {\n",
       "                    background-color: var(--colab-primary-surface-color, white);\n",
       "                }\n",
       "\n",
       "                .geemap-colab .jupyter-button {\n",
       "                    --jp-layout-color3: var(--colab-primary-surface-color, white);\n",
       "                }\n",
       "            </style>\n",
       "            "
      ],
      "text/plain": [
       "<IPython.core.display.HTML object>"
      ]
     },
     "metadata": {},
     "output_type": "display_data"
    }
   ],
   "source": [
    "# Get the last drawn feature\n",
    "loc = Map.draw_last_feature.geometry()"
   ]
  },
  {
   "cell_type": "code",
   "execution_count": 4,
   "id": "cc5c4770",
   "metadata": {},
   "outputs": [
    {
     "data": {
      "text/html": [
       "\n",
       "            <style>\n",
       "                .geemap-dark {\n",
       "                    --jp-widgets-color: white;\n",
       "                    --jp-widgets-label-color: white;\n",
       "                    --jp-ui-font-color1: white;\n",
       "                    --jp-layout-color2: #454545;\n",
       "                    background-color: #383838;\n",
       "                }\n",
       "\n",
       "                .geemap-dark .jupyter-button {\n",
       "                    --jp-layout-color3: #383838;\n",
       "                }\n",
       "\n",
       "                .geemap-colab {\n",
       "                    background-color: var(--colab-primary-surface-color, white);\n",
       "                }\n",
       "\n",
       "                .geemap-colab .jupyter-button {\n",
       "                    --jp-layout-color3: var(--colab-primary-surface-color, white);\n",
       "                }\n",
       "            </style>\n",
       "            "
      ],
      "text/plain": [
       "<IPython.core.display.HTML object>"
      ]
     },
     "metadata": {},
     "output_type": "display_data"
    },
    {
     "name": "stdout",
     "output_type": "stream",
     "text": [
      "Distinct sliceNumbers: [5]\n",
      "Number of images: 31\n"
     ]
    },
    {
     "data": {
      "application/vnd.jupyter.widget-view+json": {
       "model_id": "205ee13a90f84ae79c4954938f8c2231",
       "version_major": 2,
       "version_minor": 0
      },
      "text/plain": [
       "Map(center=[0, 0], controls=(WidgetControl(options=['position', 'transparent_bg'], position='topright', transp…"
      ]
     },
     "execution_count": 4,
     "metadata": {},
     "output_type": "execute_result"
    }
   ],
   "source": [
    "#Get GRD images\n",
    "path = 14 #set path, same as ASF number\n",
    "frame = 5 #set frame [WIP], requires trial and error to determine the correct correspondence\n",
    "#https://forum.earthdata.nasa.gov/viewtopic.php?t=4161 for more info\n",
    "img_vv = (\n",
    "    ee.ImageCollection('COPERNICUS/S1_GRD')\n",
    "    .filterBounds(loc)\n",
    "    .filter(ee.Filter.listContains('transmitterReceiverPolarisation', 'VH'))\n",
    "    .filter(ee.Filter.eq('instrumentMode', 'IW'))\n",
    "    .filter(ee.Filter.eq('relativeOrbitNumber_start', path))\n",
    "    .filter(ee.Filter.eq('sliceNumber', frame))\n",
    "    .select('VH')\n",
    ")\n",
    "\n",
    "#reproject to lower resolution\n",
    "def downsample(img):\n",
    "    # Reduce resolution using mean reducer\n",
    "    return img.resample('bilinear').reproject(\n",
    "        crs='EPSG:32607',\n",
    "        scale=500\n",
    "    )\n",
    "\n",
    "img_vv = img_vv.map(downsample)\n",
    "# Extract distinct sliceNumbers for trial/error finding correct frame\n",
    "slice_numbers = (img_vv\n",
    "                 .aggregate_array(\"sliceNumber\")\n",
    "                 .distinct()\n",
    "                 .sort())\n",
    "\n",
    "data_window = ee.Filter.date('2019-01-01', '2020-01-01')\n",
    "img_vv = img_vv.filter(data_window)\n",
    "\n",
    "print(\"Distinct sliceNumbers:\", slice_numbers.getInfo())\n",
    "print(\"Number of images:\", img_vv.size().getInfo())\n",
    "numImgs = img_vv.size().getInfo()\n",
    "vis_params = {\n",
    "    'min': -25,\n",
    "    'max': 5,\n",
    "    'palette': ['blue', 'green', 'white']\n",
    "}\n",
    "\n",
    "grd_map = geemap.Map()\n",
    "grd_map.addLayer(img_vv.first(), vis_params, 'GRD', True)\n",
    "grd_map #give it time to load\n"
   ]
  },
  {
   "cell_type": "code",
   "execution_count": 6,
   "id": "79fc3047",
   "metadata": {},
   "outputs": [
    {
     "data": {
      "text/html": [
       "\n",
       "            <style>\n",
       "                .geemap-dark {\n",
       "                    --jp-widgets-color: white;\n",
       "                    --jp-widgets-label-color: white;\n",
       "                    --jp-ui-font-color1: white;\n",
       "                    --jp-layout-color2: #454545;\n",
       "                    background-color: #383838;\n",
       "                }\n",
       "\n",
       "                .geemap-dark .jupyter-button {\n",
       "                    --jp-layout-color3: #383838;\n",
       "                }\n",
       "\n",
       "                .geemap-colab {\n",
       "                    background-color: var(--colab-primary-surface-color, white);\n",
       "                }\n",
       "\n",
       "                .geemap-colab .jupyter-button {\n",
       "                    --jp-layout-color3: var(--colab-primary-surface-color, white);\n",
       "                }\n",
       "            </style>\n",
       "            "
      ],
      "text/plain": [
       "<IPython.core.display.HTML object>"
      ]
     },
     "metadata": {},
     "output_type": "display_data"
    },
    {
     "data": {
      "application/vnd.jupyter.widget-view+json": {
       "model_id": "205ee13a90f84ae79c4954938f8c2231",
       "version_major": 2,
       "version_minor": 0
      },
      "text/plain": [
       "Map(bottom=812.0, center=[0, 0], controls=(WidgetControl(options=['position', 'transparent_bg'], position='top…"
      ]
     },
     "execution_count": 6,
     "metadata": {},
     "output_type": "execute_result"
    }
   ],
   "source": [
    "#Get bounds of union of image collection data\n",
    "footprint_union = img_vv.geometry().dissolve()\n",
    "#reset Map\n",
    "# Add the union footprint\n",
    "grd_map.addLayer(footprint_union, {'color': 'red'}, 'S1 Footprint Union')\n",
    "grd_map"
   ]
  },
  {
   "cell_type": "markdown",
   "id": "0fe92ff0",
   "metadata": {},
   "source": [
    "Exporting GRD"
   ]
  },
  {
   "cell_type": "code",
   "execution_count": 97,
   "id": "b1a7e7b3",
   "metadata": {},
   "outputs": [
    {
     "data": {
      "text/html": [
       "\n",
       "            <style>\n",
       "                .geemap-dark {\n",
       "                    --jp-widgets-color: white;\n",
       "                    --jp-widgets-label-color: white;\n",
       "                    --jp-ui-font-color1: white;\n",
       "                    --jp-layout-color2: #454545;\n",
       "                    background-color: #383838;\n",
       "                }\n",
       "\n",
       "                .geemap-dark .jupyter-button {\n",
       "                    --jp-layout-color3: #383838;\n",
       "                }\n",
       "\n",
       "                .geemap-colab {\n",
       "                    background-color: var(--colab-primary-surface-color, white);\n",
       "                }\n",
       "\n",
       "                .geemap-colab .jupyter-button {\n",
       "                    --jp-layout-color3: var(--colab-primary-surface-color, white);\n",
       "                }\n",
       "            </style>\n",
       "            "
      ],
      "text/plain": [
       "<IPython.core.display.HTML object>"
      ]
     },
     "metadata": {},
     "output_type": "display_data"
    },
    {
     "name": "stdout",
     "output_type": "stream",
     "text": [
      "Started export for S1A_IW_GRDH_1SDV_20190101T155619_20190101T155644_025286_02CC00_8276\n",
      "Started export for S1A_IW_GRDH_1SDV_20190113T155618_20190113T155643_025461_02D249_16A5\n",
      "Started export for S1A_IW_GRDH_1SDV_20190125T155618_20190125T155643_025636_02D8AE_B476\n",
      "Started export for S1A_IW_GRDH_1SDV_20190206T155617_20190206T155642_025811_02DEF5_FC07\n",
      "Started export for S1A_IW_GRDH_1SDV_20190218T155617_20190218T155642_025986_02E534_8F06\n",
      "Started export for S1A_IW_GRDH_1SDV_20190302T155617_20190302T155642_026161_02EB7D_B8C4\n",
      "Started export for S1A_IW_GRDH_1SDV_20190314T155617_20190314T155642_026336_02F1E0_60CB\n",
      "Started export for S1A_IW_GRDH_1SDV_20190326T155618_20190326T155643_026511_02F84D_429C\n",
      "Started export for S1A_IW_GRDH_1SDV_20190407T155618_20190407T155643_026686_02FEC1_A9AD\n",
      "Started export for S1A_IW_GRDH_1SDV_20190419T155618_20190419T155643_026861_03051A_E07F\n",
      "Started export for S1A_IW_GRDH_1SDV_20190501T155619_20190501T155644_027036_030B79_403F\n",
      "Started export for S1A_IW_GRDH_1SDV_20190513T155619_20190513T155644_027211_031151_E02B\n",
      "Started export for S1A_IW_GRDH_1SDV_20190525T155620_20190525T155645_027386_0316C8_667D\n",
      "Started export for S1A_IW_GRDH_1SDV_20190606T155620_20190606T155645_027561_031C32_11BB\n",
      "Started export for S1A_IW_GRDH_1SDV_20190618T155621_20190618T155646_027736_032178_35C3\n",
      "Started export for S1A_IW_GRDH_1SDV_20190630T155622_20190630T155647_027911_0326B3_A85C\n",
      "Started export for S1A_IW_GRDH_1SDV_20190712T155623_20190712T155648_028086_032C00_E9A4\n",
      "Started export for S1A_IW_GRDH_1SDV_20190724T155623_20190724T155648_028261_033149_8FCC\n",
      "Started export for S1A_IW_GRDH_1SDV_20190805T155624_20190805T155649_028436_0336A4_07E2\n",
      "Started export for S1A_IW_GRDH_1SDV_20190817T155625_20190817T155650_028611_033C8E_D212\n",
      "Started export for S1A_IW_GRDH_1SDV_20190829T155625_20190829T155650_028786_0342B3_9839\n",
      "Started export for S1A_IW_GRDH_1SDV_20190910T155626_20190910T155651_028961_0348CB_C1FB\n",
      "Started export for S1A_IW_GRDH_1SDV_20190922T155627_20190922T155652_029136_034EC0_4D02\n",
      "Started export for S1A_IW_GRDH_1SDV_20191004T155627_20191004T155652_029311_0354C5_6CFD\n",
      "Started export for S1A_IW_GRDH_1SDV_20191016T155627_20191016T155652_029486_035AD0_24E4\n",
      "Started export for S1A_IW_GRDH_1SDV_20191028T155627_20191028T155652_029661_0360DA_07B6\n",
      "Started export for S1A_IW_GRDH_1SDV_20191109T155627_20191109T155652_029836_036708_DBCA\n",
      "Started export for S1A_IW_GRDH_1SDV_20191121T155627_20191121T155652_030011_036D12_E61B\n",
      "Started export for S1A_IW_GRDH_1SDV_20191203T155626_20191203T155651_030186_037324_1CF6\n",
      "Started export for S1A_IW_GRDH_1SDV_20191215T155626_20191215T155651_030361_03792F_ED03\n",
      "Started export for S1A_IW_GRDH_1SDV_20191227T155625_20191227T155650_030536_037F38_BE48\n"
     ]
    }
   ],
   "source": [
    "# Get size of collection\n",
    "n = img_vv.size().getInfo()\n",
    "# Convert collection to Python list of ee.Images\n",
    "img_list = img_vv.toList(n)\n",
    "\n",
    "for i in range(n):\n",
    "    img = ee.Image(img_list.get(i))\n",
    "    \n",
    "    # Get system:index on the client\n",
    "    img_id = img.get('system:index').getInfo()\n",
    "    \n",
    "    task = ee.batch.Export.image.toDrive(\n",
    "        image=img,\n",
    "        description=f'export_{img_id}',\n",
    "        folder='GRD',  # optional, Drive folder name\n",
    "        fileNamePrefix=f's1_500m_{img_id}',\n",
    "        region=img.geometry(),\n",
    "        scale=500,\n",
    "        crs='EPSG:32607',\n",
    "        fileFormat='GeoTIFF',\n",
    "        maxPixels=1e13\n",
    "    )\n",
    "    task.start()\n",
    "    print(f\"Started export for {img_id}\")"
   ]
  },
  {
   "cell_type": "markdown",
   "id": "8500a7b5",
   "metadata": {},
   "source": [
    "Get the DEM"
   ]
  },
  {
   "cell_type": "code",
   "execution_count": null,
   "id": "04390a3a",
   "metadata": {},
   "outputs": [
    {
     "data": {
      "text/html": [
       "\n",
       "            <style>\n",
       "                .geemap-dark {\n",
       "                    --jp-widgets-color: white;\n",
       "                    --jp-widgets-label-color: white;\n",
       "                    --jp-ui-font-color1: white;\n",
       "                    --jp-layout-color2: #454545;\n",
       "                    background-color: #383838;\n",
       "                }\n",
       "\n",
       "                .geemap-dark .jupyter-button {\n",
       "                    --jp-layout-color3: #383838;\n",
       "                }\n",
       "\n",
       "                .geemap-colab {\n",
       "                    background-color: var(--colab-primary-surface-color, white);\n",
       "                }\n",
       "\n",
       "                .geemap-colab .jupyter-button {\n",
       "                    --jp-layout-color3: var(--colab-primary-surface-color, white);\n",
       "                }\n",
       "            </style>\n",
       "            "
      ],
      "text/plain": [
       "<IPython.core.display.HTML object>"
      ]
     },
     "metadata": {},
     "output_type": "display_data"
    },
    {
     "data": {
      "application/vnd.jupyter.widget-view+json": {
       "model_id": "0ffa0956f24149efbfb4e42150df9676",
       "version_major": 2,
       "version_minor": 0
      },
      "text/plain": [
       "Map(center=[61.609210398328756, -143.1184445951888], controls=(WidgetControl(options=['position', 'transparent…"
      ]
     },
     "execution_count": 90,
     "metadata": {},
     "output_type": "execute_result"
    }
   ],
   "source": [
    "#Get DEM of GRD union bounds:\n",
    "\n",
    "dem_clipped = (\n",
    "    ee.ImageCollection(\"COPERNICUS/DEM/GLO30\") \n",
    "    .filterBounds(footprint_union)\n",
    "    .select('DEM')\n",
    ")\n",
    "\n",
    "single_dem = dem_clipped.mosaic().toFloat()\n",
    "\n",
    "#CMU colors\n",
    "vis_params = {\n",
    "    'min': 0,\n",
    "    'max': 3000,\n",
    "    'palette': ['blue', 'green', 'white']\n",
    "}\n",
    "\n",
    "#Sanity check\n",
    "centroid = footprint_union.centroid().coordinates().getInfo()\n",
    "lon, lat = centroid[0], centroid[1]\n",
    "dem_map = geemap.Map()\n",
    "dem_map.setCenter(lon, lat, zoom=5)\n",
    "dem_map.addLayer(single_dem, vis_params, 'DEM')\n",
    "dem_map"
   ]
  },
  {
   "cell_type": "code",
   "execution_count": 91,
   "id": "c1b5f931",
   "metadata": {},
   "outputs": [
    {
     "data": {
      "text/html": [
       "\n",
       "            <style>\n",
       "                .geemap-dark {\n",
       "                    --jp-widgets-color: white;\n",
       "                    --jp-widgets-label-color: white;\n",
       "                    --jp-ui-font-color1: white;\n",
       "                    --jp-layout-color2: #454545;\n",
       "                    background-color: #383838;\n",
       "                }\n",
       "\n",
       "                .geemap-dark .jupyter-button {\n",
       "                    --jp-layout-color3: #383838;\n",
       "                }\n",
       "\n",
       "                .geemap-colab {\n",
       "                    background-color: var(--colab-primary-surface-color, white);\n",
       "                }\n",
       "\n",
       "                .geemap-colab .jupyter-button {\n",
       "                    --jp-layout-color3: var(--colab-primary-surface-color, white);\n",
       "                }\n",
       "            </style>\n",
       "            "
      ],
      "text/plain": [
       "<IPython.core.display.HTML object>"
      ]
     },
     "metadata": {},
     "output_type": "display_data"
    },
    {
     "data": {
      "application/vnd.jupyter.widget-view+json": {
       "model_id": "e80fd4a825b448e8a1129f5a23c62ac7",
       "version_major": 2,
       "version_minor": 0
      },
      "text/plain": [
       "Map(center=[0, 0], controls=(WidgetControl(options=['position', 'transparent_bg'], position='topright', transp…"
      ]
     },
     "execution_count": 91,
     "metadata": {},
     "output_type": "execute_result"
    }
   ],
   "source": [
    "#process glacier files\n",
    "\n",
    "#declare glacier id func\n",
    "def add_numeric_id(f):\n",
    "    rgi_id = ee.String(f.get(\"rgi_id\"))  # e.g. \"RGI2000-v7.0-G-11-00351\"\n",
    "     # Split on \"-\"\n",
    "    parts = rgi_id.split(\"-\")   # returns ee.List\n",
    "\n",
    "    # Get region and number explicitly by index\n",
    "    region = ee.String(parts.get(3))   # \"11\"\n",
    "    number = ee.String(parts.get(4))   # \"00351\"\n",
    "\n",
    "    # Convert to integer\n",
    "    glac_id = ee.Number.parse(number)\n",
    "\n",
    "    return f.set(\"glac_id\", glac_id)\n",
    "\n",
    "\n",
    "\n",
    "rgi_vector = (\n",
    "    ee.FeatureCollection(\"projects/sat-io/open-datasets/RGI/RGI_VECTOR_MERGED_V7\")\n",
    "    .filterBounds(footprint_union)\n",
    ")\n",
    "\n",
    "rgi_with_id = rgi_vector.map(add_numeric_id)\n",
    "\n",
    "rgi = rgi_with_id.reduceToImage(\n",
    "    properties=[\"glac_id\"],\n",
    "    reducer=ee.Reducer.first()\n",
    ").unmask(0) \n",
    "\n",
    "rgi_geo = rgi_vector.geometry().dissolve().simplify(maxError=250)\n",
    "#Clip grd to glaciers\n",
    "img_vv_clipped = img_vv.map(lambda img: img.clip(rgi_geo))\n",
    "\n",
    "vis_params = {\n",
    "    'min': 0,\n",
    "    'max': 100000,\n",
    "    'palette': ['black', 'green', 'white']\n",
    "}\n",
    "#rgi = rgi.clip(footprint_union)\n",
    "GlacierMap = geemap.Map()\n",
    "rgi_binary = rgi.gt(0).unmask()\n",
    "GlacierMap.addLayer(rgi, vis_params, 'Glacier raster mask', True)\n",
    "#GlacierMap.addLayer(foot,vis_params,'Glacier Features')\n",
    "GlacierMap #takes a while to load all of them"
   ]
  },
  {
   "cell_type": "markdown",
   "id": "a4b4df23",
   "metadata": {},
   "source": [
    "\n",
    "Sanity Checking"
   ]
  },
  {
   "cell_type": "markdown",
   "id": "98456084",
   "metadata": {},
   "source": [
    "Generate video"
   ]
  },
  {
   "cell_type": "code",
   "execution_count": 13,
   "id": "f20aaf2f",
   "metadata": {},
   "outputs": [
    {
     "data": {
      "text/html": [
       "\n",
       "            <style>\n",
       "                .geemap-dark {\n",
       "                    --jp-widgets-color: white;\n",
       "                    --jp-widgets-label-color: white;\n",
       "                    --jp-ui-font-color1: white;\n",
       "                    --jp-layout-color2: #454545;\n",
       "                    background-color: #383838;\n",
       "                }\n",
       "\n",
       "                .geemap-dark .jupyter-button {\n",
       "                    --jp-layout-color3: #383838;\n",
       "                }\n",
       "\n",
       "                .geemap-colab {\n",
       "                    background-color: var(--colab-primary-surface-color, white);\n",
       "                }\n",
       "\n",
       "                .geemap-colab .jupyter-button {\n",
       "                    --jp-layout-color3: var(--colab-primary-surface-color, white);\n",
       "                }\n",
       "            </style>\n",
       "            "
      ],
      "text/plain": [
       "<IPython.core.display.HTML object>"
      ]
     },
     "metadata": {},
     "output_type": "display_data"
    },
    {
     "name": "stdout",
     "output_type": "stream",
     "text": [
      "Animation URL: https://earthengine-highvolume.googleapis.com/v1/projects/sar-testing-472822/videoThumbnails/fb17dd3d57f74470dc921eeb57414d36-22c3d6c096da56cb41ef29a88a3d2c29:getPixels\n"
     ]
    }
   ],
   "source": [
    "\n",
    "\n",
    "video_args = {\n",
    "  'dimensions': 768,\n",
    "  'region': footprint_union,\n",
    "  'framesPerSecond': 7,\n",
    "  'crs': 'EPSG:3857',\n",
    "  'min': -40.0,\n",
    "  'max': 35.0,\n",
    "  'palette': ['blue', 'purple', 'cyan', 'green', 'yellow', 'red']\n",
    "}\n",
    "\n",
    "animation_url = img_vv.filterDate('2019-01-01', '2020-01-02').getVideoThumbURL(video_args)\n",
    "print(f\"Animation URL: {animation_url}\")"
   ]
  },
  {
   "cell_type": "markdown",
   "id": "259ce2fd",
   "metadata": {},
   "source": [
    "Merge DEM and export data!"
   ]
  },
  {
   "cell_type": "code",
   "execution_count": 101,
   "id": "30ff54e7",
   "metadata": {},
   "outputs": [
    {
     "data": {
      "text/html": [
       "\n",
       "            <style>\n",
       "                .geemap-dark {\n",
       "                    --jp-widgets-color: white;\n",
       "                    --jp-widgets-label-color: white;\n",
       "                    --jp-ui-font-color1: white;\n",
       "                    --jp-layout-color2: #454545;\n",
       "                    background-color: #383838;\n",
       "                }\n",
       "\n",
       "                .geemap-dark .jupyter-button {\n",
       "                    --jp-layout-color3: #383838;\n",
       "                }\n",
       "\n",
       "                .geemap-colab {\n",
       "                    background-color: var(--colab-primary-surface-color, white);\n",
       "                }\n",
       "\n",
       "                .geemap-colab .jupyter-button {\n",
       "                    --jp-layout-color3: var(--colab-primary-surface-color, white);\n",
       "                }\n",
       "            </style>\n",
       "            "
      ],
      "text/plain": [
       "<IPython.core.display.HTML object>"
      ]
     },
     "metadata": {},
     "output_type": "display_data"
    },
    {
     "name": "stdout",
     "output_type": "stream",
     "text": [
      "Started export dem\n"
     ]
    }
   ],
   "source": [
    "img = single_dem\n",
    "task = ee.batch.Export.image.toDrive(\n",
    "        image=img,\n",
    "        description=f'export_dem',\n",
    "        folder='GRD',  # optional, Drive folder name\n",
    "        fileNamePrefix=f'DEM',\n",
    "        region=footprint_union,\n",
    "        scale=30,\n",
    "        crs='EPSG:32607',\n",
    "        fileFormat='GeoTIFF',\n",
    "        maxPixels=1e13\n",
    "    )\n",
    "task.start()\n",
    "print(f\"Started export dem\")"
   ]
  },
  {
   "cell_type": "markdown",
   "id": "4c558e31",
   "metadata": {},
   "source": [
    "Reformatting:"
   ]
  },
  {
   "cell_type": "code",
   "execution_count": null,
   "id": "022cbfbd",
   "metadata": {},
   "outputs": [],
   "source": []
  },
  {
   "cell_type": "code",
   "execution_count": 7,
   "id": "e67a5efb",
   "metadata": {},
   "outputs": [
    {
     "data": {
      "text/html": [
       "\n",
       "            <style>\n",
       "                .geemap-dark {\n",
       "                    --jp-widgets-color: white;\n",
       "                    --jp-widgets-label-color: white;\n",
       "                    --jp-ui-font-color1: white;\n",
       "                    --jp-layout-color2: #454545;\n",
       "                    background-color: #383838;\n",
       "                }\n",
       "\n",
       "                .geemap-dark .jupyter-button {\n",
       "                    --jp-layout-color3: #383838;\n",
       "                }\n",
       "\n",
       "                .geemap-colab {\n",
       "                    background-color: var(--colab-primary-surface-color, white);\n",
       "                }\n",
       "\n",
       "                .geemap-colab .jupyter-button {\n",
       "                    --jp-layout-color3: var(--colab-primary-surface-color, white);\n",
       "                }\n",
       "            </style>\n",
       "            "
      ],
      "text/plain": [
       "<IPython.core.display.HTML object>"
      ]
     },
     "metadata": {},
     "output_type": "display_data"
    },
    {
     "name": "stdout",
     "output_type": "stream",
     "text": [
      "CRS: EPSG:32607\n",
      "xmin: -145\n",
      "ymin: 60\n",
      "xmax: -140\n",
      "ymax: 62\n",
      "RGI2000-v7.0-G-01_alaska\n"
     ]
    }
   ],
   "source": [
    "#Create parameters\n",
    "# Take first image in collection\n",
    "img = img_vv.first()\n",
    "# Get projection of a band (VV, VH, etc.)\n",
    "proj = img.select(0).projection()\n",
    "# CRS string (e.g. \"EPSG:32607\")\n",
    "crs = proj.crs().getInfo()\n",
    "print(f\"CRS: {crs}\")\n",
    "\n",
    "bounds = footprint_union.bounds().coordinates().get(0).getInfo()\n",
    "\n",
    "# bounds is a list of coordinates (a ring), so we extract the corners\n",
    "xmin = int(np.min(bounds[0][0]))\n",
    "ymin = int(np.min(bounds[0][1]))\n",
    "xmax = int(np.max(bounds[2][0]))\n",
    "ymax = int(np.max(bounds[2][1]))\n",
    "\n",
    "print(\"xmin:\", xmin)\n",
    "print(\"ymin:\", ymin)\n",
    "print(\"xmax:\", xmax)\n",
    "print(\"ymax:\", ymax)\n",
    "# need bounds in different order for shapefile work below (minx,miny,maxx,maxy)\n",
    "output_bounds = [xmin, ymin, xmax, ymax]\n",
    "\n",
    "RGI_shapefile_path = \"C:/Users/jaden/Downloads/Research/Glaciers/RGI2000-v7.0-G-01_alaska\"\n",
    "srcDS = gdal.OpenEx(RGI_shapefile_path)\n",
    "layer = srcDS.GetLayer()\n",
    "print(layer.GetName())\n"
   ]
  },
  {
   "cell_type": "code",
   "execution_count": 8,
   "id": "9b5afd76",
   "metadata": {},
   "outputs": [
    {
     "data": {
      "text/html": [
       "\n",
       "            <style>\n",
       "                .geemap-dark {\n",
       "                    --jp-widgets-color: white;\n",
       "                    --jp-widgets-label-color: white;\n",
       "                    --jp-ui-font-color1: white;\n",
       "                    --jp-layout-color2: #454545;\n",
       "                    background-color: #383838;\n",
       "                }\n",
       "\n",
       "                .geemap-dark .jupyter-button {\n",
       "                    --jp-layout-color3: #383838;\n",
       "                }\n",
       "\n",
       "                .geemap-colab {\n",
       "                    background-color: var(--colab-primary-surface-color, white);\n",
       "                }\n",
       "\n",
       "                .geemap-colab .jupyter-button {\n",
       "                    --jp-layout-color3: var(--colab-primary-surface-color, white);\n",
       "                }\n",
       "            </style>\n",
       "            "
      ],
      "text/plain": [
       "<IPython.core.display.HTML object>"
      ]
     },
     "metadata": {},
     "output_type": "display_data"
    },
    {
     "name": "stdout",
     "output_type": "stream",
     "text": [
      "xmin: 246420.0\n",
      "ymin: 6722850.0\n",
      "xmax: 529290.0\n",
      "ymax: 6941880.0\n"
     ]
    }
   ],
   "source": [
    "in_gd_dem = gdal.Open(\"C:/Users/jaden/Downloads/Research/Notebooks/GEE/tifs/DEM.tif\")  \n",
    "\n",
    "spatial_ref = osr.SpatialReference()\n",
    "spatial_ref.ImportFromWkt(in_gd_dem.GetProjection())\n",
    "\n",
    "geotransform = in_gd_dem.GetGeoTransform()\n",
    "top_left_x = geotransform[0]\n",
    "pixel_width = geotransform[1]\n",
    "top_left_y = geotransform[3]\n",
    "pixel_height = geotransform[5]\n",
    "            \n",
    "# Get the number of columns and rows\n",
    "cols = in_gd_dem.RasterXSize\n",
    "rows = in_gd_dem.RasterYSize\n",
    "            \n",
    "# Calculate the extent (bounds)\n",
    "xmin = top_left_x\n",
    "xmax = top_left_x + (cols * pixel_width)\n",
    "ymax = top_left_y\n",
    "ymin = top_left_y + (rows * pixel_height)\n",
    "\n",
    "\n",
    "print(\"xmin:\", xmin)\n",
    "print(\"ymin:\", ymin)\n",
    "print(\"xmax:\", xmax)\n",
    "print(\"ymax:\", ymax)\n",
    "# need bounds in different order for shapefile work below (minx,miny,maxx,maxy)\n",
    "output_bounds = [xmin, ymin, xmax, ymax]\n",
    "projWin=(xmin, ymax, xmax, ymin) \n",
    "                 "
   ]
  },
  {
   "cell_type": "code",
   "execution_count": 9,
   "id": "c6a4ac06",
   "metadata": {},
   "outputs": [
    {
     "data": {
      "text/html": [
       "\n",
       "            <style>\n",
       "                .geemap-dark {\n",
       "                    --jp-widgets-color: white;\n",
       "                    --jp-widgets-label-color: white;\n",
       "                    --jp-ui-font-color1: white;\n",
       "                    --jp-layout-color2: #454545;\n",
       "                    background-color: #383838;\n",
       "                }\n",
       "\n",
       "                .geemap-dark .jupyter-button {\n",
       "                    --jp-layout-color3: #383838;\n",
       "                }\n",
       "\n",
       "                .geemap-colab {\n",
       "                    background-color: var(--colab-primary-surface-color, white);\n",
       "                }\n",
       "\n",
       "                .geemap-colab .jupyter-button {\n",
       "                    --jp-layout-color3: var(--colab-primary-surface-color, white);\n",
       "                }\n",
       "            </style>\n",
       "            "
      ],
      "text/plain": [
       "<IPython.core.display.HTML object>"
      ]
     },
     "metadata": {},
     "output_type": "display_data"
    },
    {
     "name": "stdout",
     "output_type": "stream",
     "text": [
      "Fields available in the layer:\n",
      "- rgi_id\n",
      "- o1region\n",
      "- o2region\n",
      "- glims_id\n",
      "- anlys_id\n",
      "- subm_id\n",
      "- src_date\n",
      "- cenlon\n",
      "- cenlat\n",
      "- utm_zone\n",
      "- area_km2\n",
      "- primeclass\n",
      "- conn_lvl\n",
      "- surge_type\n",
      "- term_type\n",
      "- glac_name\n",
      "- is_rgi6\n",
      "- termlon\n",
      "- termlat\n",
      "- zmin_m\n",
      "- zmax_m\n",
      "- zmed_m\n",
      "- zmean_m\n",
      "- slope_deg\n",
      "- aspect_deg\n",
      "- aspect_sec\n",
      "- dem_source\n",
      "- lmax_m\n",
      "['RGI2000-v7.0-G-01_alaska']\n"
     ]
    }
   ],
   "source": [
    "# %% \n",
    "# read RGI, make glacier id and aspect mask layers for cube\n",
    "# \n",
    "# vector layer for gdal rasterize function\n",
    "layers = ['RGI2000-v7.0-G-01_alaska',]\n",
    "\n",
    "xres,yres = (500.0,500.0)   # output (datacube) resolution in projection meters\n",
    "resampleAlg = 'average'     # resample technique\n",
    "\n",
    "\n",
    "epsg_str_for_cube = crs\n",
    "# set up field definition for integer value of rgi_id\n",
    "fldDef = ogr.FieldDefn('rgi_int', ogr.OFTInteger)\n",
    "\n",
    "srcDS = gdal.OpenEx(RGI_shapefile_path)\n",
    "ds = gdal.VectorTranslate('',srcDS,format = 'Memory',spatFilter=output_bounds,\n",
    "                          spatSRS=epsg_str_for_cube,reproject=True,dstSRS=epsg_str_for_cube)\n",
    "\n",
    "layer = ds.GetLayer()\n",
    "layer_defn = layer.GetLayerDefn()\n",
    "\n",
    "print(\"Fields available in the layer:\")\n",
    "for i in range(layer_defn.GetFieldCount()):\n",
    "    print(\"-\", layer_defn.GetFieldDefn(i).GetName())\n",
    "\n",
    "\n",
    "\n",
    "#get layer and add the field:\n",
    "layer = ds.GetLayer()\n",
    "layer.CreateField(fldDef)\n",
    "\n",
    "\n",
    "for feat in layer:\n",
    "    rgi_id_str = feat.GetField('rgi_id')\n",
    "    rgi_int = int(rgi_id_str.split('-')[-1])\n",
    "    feat.SetField('rgi_int',rgi_int) \n",
    "    layer.SetFeature(feat) \n",
    "    \n",
    "\n",
    "outMemRas = '/vsimem/raster_rgi_ids.tif'\n",
    "\n",
    "gdal.Rasterize(outMemRas, ds,\n",
    "               outputType=gdal.GDT_UInt32,\n",
    "               outputSRS=epsg_str_for_cube,\n",
    "               xRes=xres,\n",
    "               yRes=yres,\n",
    "#                width=XSize, height=YSize,\n",
    "               outputBounds=output_bounds,\n",
    "               layers=layers,\n",
    "               attribute='rgi_int',\n",
    "#                allTouched=True\n",
    "               )\n",
    "shapeRasDS = gdal.Open(outMemRas) # Open raster file in memory with gdal\n",
    "rgi_ind_shape_arr = shapeRasDS.ReadAsArray() # Read into numpy array\n",
    "gdal.Unlink(outMemRas)\n",
    "shapeRasDS = None\n",
    "\n",
    "\n",
    "\n",
    "outMemRas = '/vsimem/raster_aspect.tif'\n",
    "print(layers)\n",
    "gdal.Rasterize(outMemRas, ds,\n",
    "               outputType=gdal.GDT_Float32,\n",
    "               outputSRS=epsg_str_for_cube,\n",
    "               xRes=xres,\n",
    "               yRes=yres,\n",
    "#                width=XSize, height=YSize,\n",
    "               outputBounds=output_bounds,\n",
    "               layers=layers,\n",
    "               attribute='aspect_deg',\n",
    "#                allTouched=True\n",
    "               )\n",
    "shapeRasDS = gdal.Open(outMemRas) # Open raster file in memory with gdal\n",
    "rgi_aspect_arr = shapeRasDS.ReadAsArray() # Read into numpy array\n",
    "gdal.Unlink(outMemRas)\n",
    "shapeRasDS = None\n",
    "\n"
   ]
  },
  {
   "cell_type": "markdown",
   "id": "3a5dd44b",
   "metadata": {},
   "source": [
    "Load GRD into cube"
   ]
  },
  {
   "cell_type": "code",
   "execution_count": null,
   "id": "1fc26320",
   "metadata": {},
   "outputs": [
    {
     "data": {
      "text/html": [
       "\n",
       "            <style>\n",
       "                .geemap-dark {\n",
       "                    --jp-widgets-color: white;\n",
       "                    --jp-widgets-label-color: white;\n",
       "                    --jp-ui-font-color1: white;\n",
       "                    --jp-layout-color2: #454545;\n",
       "                    background-color: #383838;\n",
       "                }\n",
       "\n",
       "                .geemap-dark .jupyter-button {\n",
       "                    --jp-layout-color3: #383838;\n",
       "                }\n",
       "\n",
       "                .geemap-colab {\n",
       "                    background-color: var(--colab-primary-surface-color, white);\n",
       "                }\n",
       "\n",
       "                .geemap-colab .jupyter-button {\n",
       "                    --jp-layout-color3: var(--colab-primary-surface-color, white);\n",
       "                }\n",
       "            </style>\n",
       "            "
      ],
      "text/plain": [
       "<IPython.core.display.HTML object>"
      ]
     },
     "metadata": {},
     "output_type": "display_data"
    }
   ],
   "source": [
    "out_nc_fn = \"out.nc\"\n",
    "in_gd_dem = gdal.Translate('',in_gd_dem,format='VRT',projWin=projWin,xRes=xres,yRes=yres,resampleAlg=resampleAlg)\n",
    "\n",
    "min_x,pix_x_m,r1,max_y,r2,pix_y_m = in_gd_dem.GetGeoTransform()\n",
    "    \n",
    "x_vec_sm = (min_x + pix_x_m/2.0) + (pix_x_m * np.arange(0,in_gd_dem.RasterXSize))\n",
    "y_vec_sm = (max_y + pix_y_m/2.0) + (pix_y_m * np.arange(0,in_gd_dem.RasterYSize))\n",
    "    \n",
    "\n",
    "time_vec = np.ones((numImgs),dtype='datetime64[ns]')\n",
    "    \n",
    "ny,nx = in_gd_dem.RasterYSize,in_gd_dem.RasterXSize\n",
    "\n",
    "\n",
    "\n"
   ]
  },
  {
   "cell_type": "code",
   "execution_count": null,
   "id": "75d9bb15",
   "metadata": {},
   "outputs": [],
   "source": [
    "img_cube = np.memmap('img_cube.dat', dtype='float32', mode='w+', shape=(numImgs, ny, nx))\n",
    "img_cube[:] = np.nan"
   ]
  }
 ],
 "metadata": {
  "kernelspec": {
   "display_name": "glacier-env",
   "language": "python",
   "name": "myenv"
  },
  "language_info": {
   "codemirror_mode": {
    "name": "ipython",
    "version": 3
   },
   "file_extension": ".py",
   "mimetype": "text/x-python",
   "name": "python",
   "nbconvert_exporter": "python",
   "pygments_lexer": "ipython3",
   "version": "3.11.9"
  }
 },
 "nbformat": 4,
 "nbformat_minor": 5
}
